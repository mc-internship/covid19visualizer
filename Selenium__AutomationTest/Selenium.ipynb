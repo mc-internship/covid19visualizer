{
  "nbformat": 4,
  "nbformat_minor": 0,
  "metadata": {
    "colab": {
      "name": "Selenium.ipynb",
      "provenance": []
    },
    "kernelspec": {
      "name": "python3",
      "display_name": "Python 3"
    }
  },
  "cells": [
    {
      "cell_type": "code",
      "metadata": {
        "id": "EwdT0Li7kPdz",
        "colab_type": "code",
        "outputId": "a0f53335-a79a-4222-e267-1a604dd26d38",
        "colab": {
          "base_uri": "https://localhost:8080/",
          "height": 52
        }
      },
      "source": [
        "#installing selenium\n",
        "!pip install selenium"
      ],
      "execution_count": 64,
      "outputs": [
        {
          "output_type": "stream",
          "text": [
            "Requirement already satisfied: selenium in /usr/local/lib/python3.6/dist-packages (3.141.0)\n",
            "Requirement already satisfied: urllib3 in /usr/local/lib/python3.6/dist-packages (from selenium) (1.24.3)\n"
          ],
          "name": "stdout"
        }
      ]
    },
    {
      "cell_type": "code",
      "metadata": {
        "id": "Dk40jxRcn8fX",
        "colab_type": "code",
        "outputId": "ceba4941-0bff-4a40-8fbc-e12606e4efd9",
        "colab": {
          "base_uri": "https://localhost:8080/",
          "height": 419
        }
      },
      "source": [
        "#installing the required drivers and files to launch Chrome browser\n",
        "!apt-get update \n",
        "!apt install chromium-chromedriver\n",
        "\n",
        "\n",
        "# remove the --headless argument to see the actions in chrome browser live, otherwise code will run in headless mode with all operations in background\n",
        "from selenium import webdriver\n",
        "chrome_options = webdriver.ChromeOptions()\n",
        "chrome_options.add_argument('--headless')\n",
        "chrome_options.add_argument('--no-sandbox')\n",
        "chrome_options.add_argument('--disable-dev-shm-usage')\n",
        "wd = webdriver.Chrome('chromedriver',chrome_options=chrome_options)\n",
        "driver =webdriver.Chrome('chromedriver',chrome_options=chrome_options)"
      ],
      "execution_count": 65,
      "outputs": [
        {
          "output_type": "stream",
          "text": [
            "\r0% [Working]\r            \rGet:1 http://security.ubuntu.com/ubuntu bionic-security InRelease [88.7 kB]\n",
            "\r0% [Connecting to archive.ubuntu.com (91.189.88.152)] [1 InRelease 2,589 B/88.7\r                                                                               \rHit:2 https://cloud.r-project.org/bin/linux/ubuntu bionic-cran35/ InRelease\n",
            "\r0% [Waiting for headers] [1 InRelease 60.5 kB/88.7 kB 68%] [Waiting for headers\r                                                                               \rIgn:3 https://developer.download.nvidia.com/compute/cuda/repos/ubuntu1804/x86_64  InRelease\n",
            "\r0% [Waiting for headers] [1 InRelease 60.5 kB/88.7 kB 68%] [Waiting for headers\r0% [2 InRelease gpgv 3,626 B] [Waiting for headers] [1 InRelease 60.5 kB/88.7 k\r0% [2 InRelease gpgv 3,626 B] [Waiting for headers] [Waiting for headers] [Wait\r                                                                               \rHit:4 http://ppa.launchpad.net/graphics-drivers/ppa/ubuntu bionic InRelease\n",
            "\r                                                                               \r0% [2 InRelease gpgv 3,626 B] [Waiting for headers] [Waiting for headers]\r                                                                         \rHit:5 http://archive.ubuntu.com/ubuntu bionic InRelease\n",
            "\r0% [2 InRelease gpgv 3,626 B] [Waiting for headers] [Waiting for headers] [Conn\r                                                                               \rIgn:6 https://developer.download.nvidia.com/compute/machine-learning/repos/ubuntu1804/x86_64  InRelease\n",
            "\r0% [2 InRelease gpgv 3,626 B] [Waiting for headers] [Connecting to ppa.launchpa\r                                                                               \rHit:7 https://developer.download.nvidia.com/compute/cuda/repos/ubuntu1804/x86_64  Release\n",
            "\r0% [2 InRelease gpgv 3,626 B] [Waiting for headers] [Connecting to ppa.launchpa\r                                                                               \rHit:8 https://developer.download.nvidia.com/compute/machine-learning/repos/ubuntu1804/x86_64  Release\n",
            "\r0% [2 InRelease gpgv 3,626 B] [Waiting for headers] [Connecting to ppa.launchpa\r                                                                               \rGet:9 http://archive.ubuntu.com/ubuntu bionic-updates InRelease [88.7 kB]\n",
            "Hit:10 http://ppa.launchpad.net/marutter/c2d4u3.5/ubuntu bionic InRelease\n",
            "Get:11 http://archive.ubuntu.com/ubuntu bionic-backports InRelease [74.6 kB]\n",
            "Fetched 252 kB in 2s (140 kB/s)\n",
            "Reading package lists... Done\n",
            "Reading package lists... Done\n",
            "Building dependency tree       \n",
            "Reading state information... Done\n",
            "chromium-chromedriver is already the newest version (81.0.4044.138-0ubuntu0.18.04.1).\n",
            "0 upgraded, 0 newly installed, 0 to remove and 61 not upgraded.\n"
          ],
          "name": "stdout"
        },
        {
          "output_type": "stream",
          "text": [
            "/usr/local/lib/python3.6/dist-packages/ipykernel_launcher.py:9: DeprecationWarning: use options instead of chrome_options\n",
            "  if __name__ == '__main__':\n",
            "/usr/local/lib/python3.6/dist-packages/ipykernel_launcher.py:10: DeprecationWarning: use options instead of chrome_options\n",
            "  # Remove the CWD from sys.path while we load stuff.\n"
          ],
          "name": "stderr"
        }
      ]
    },
    {
      "cell_type": "code",
      "metadata": {
        "id": "FIKow_fFT1n9",
        "colab_type": "code",
        "colab": {}
      },
      "source": [
        "#importing the required libraries\n",
        "from PIL import Image, ImageDraw"
      ],
      "execution_count": 0,
      "outputs": []
    },
    {
      "cell_type": "markdown",
      "metadata": {
        "id": "xjknkewXTaze",
        "colab_type": "text"
      },
      "source": [
        "Initial Check to see if the website is running"
      ]
    },
    {
      "cell_type": "code",
      "metadata": {
        "id": "CjhKvwGJq6nn",
        "colab_type": "code",
        "outputId": "ebc2d69f-ed53-4a6f-c619-027b72d8d2f0",
        "colab": {
          "base_uri": "https://localhost:8080/",
          "height": 35
        }
      },
      "source": [
        "driver.get(\"http://covid19visual.herokuapp.com/home\")\n",
        "driver.title"
      ],
      "execution_count": 66,
      "outputs": [
        {
          "output_type": "execute_result",
          "data": {
            "text/plain": [
              "'Home'"
            ]
          },
          "metadata": {
            "tags": []
          },
          "execution_count": 66
        }
      ]
    },
    {
      "cell_type": "markdown",
      "metadata": {
        "id": "d_DxxvlDktv9",
        "colab_type": "text"
      },
      "source": [
        "Get Baseline Images for country maps"
      ]
    },
    {
      "cell_type": "code",
      "metadata": {
        "id": "Vg-F2MkT603b",
        "colab_type": "code",
        "colab": {
          "base_uri": "https://localhost:8080/",
          "height": 435
        },
        "outputId": "0e41a397-030b-43c4-a838-b0a824e72bef"
      },
      "source": [
        "#Run this to get baseline images for maps\n",
        "# baseline images have already been provided in the folder\n",
        "#driver.get(\"http://covid19visual.herokuapp.com/home\")\n",
        "driver.back()\n",
        "paget = driver.title\n",
        "print(\"Currently on page \",paget)\n",
        "driver.find_element_by_css_selector(\"#root > div > div > div:nth-child(3) > div.homecontainer > div.countries > div:nth-child(5) > a\").click()\n",
        "paget = driver.title\n",
        "print(\"Currently on page \",paget)\n",
        "time.sleep(5)\n",
        "element = driver.find_element_by_css_selector(\"#chart\")\n",
        "driver.execute_script(\"arguments[0].scrollIntoView();\", element)\n",
        "name = paget + \".png\"\n",
        "driver.save_screenshot(name)"
      ],
      "execution_count": 75,
      "outputs": [
        {
          "output_type": "stream",
          "text": [
            "Currently on page  India Impact\n"
          ],
          "name": "stdout"
        },
        {
          "output_type": "error",
          "ename": "NoSuchElementException",
          "evalue": "ignored",
          "traceback": [
            "\u001b[0;31m---------------------------------------------------------------------------\u001b[0m",
            "\u001b[0;31mNoSuchElementException\u001b[0m                    Traceback (most recent call last)",
            "\u001b[0;32m<ipython-input-75-a9a438ee15b9>\u001b[0m in \u001b[0;36m<module>\u001b[0;34m()\u001b[0m\n\u001b[1;32m      5\u001b[0m \u001b[0mpaget\u001b[0m \u001b[0;34m=\u001b[0m \u001b[0mdriver\u001b[0m\u001b[0;34m.\u001b[0m\u001b[0mtitle\u001b[0m\u001b[0;34m\u001b[0m\u001b[0;34m\u001b[0m\u001b[0m\n\u001b[1;32m      6\u001b[0m \u001b[0mprint\u001b[0m\u001b[0;34m(\u001b[0m\u001b[0;34m\"Currently on page \"\u001b[0m\u001b[0;34m,\u001b[0m\u001b[0mpaget\u001b[0m\u001b[0;34m)\u001b[0m\u001b[0;34m\u001b[0m\u001b[0;34m\u001b[0m\u001b[0m\n\u001b[0;32m----> 7\u001b[0;31m \u001b[0mdriver\u001b[0m\u001b[0;34m.\u001b[0m\u001b[0mfind_element_by_css_selector\u001b[0m\u001b[0;34m(\u001b[0m\u001b[0;34m\"#root > div > div > div:nth-child(3) > div.homecontainer > div.countries > div:nth-child(5) > a\"\u001b[0m\u001b[0;34m)\u001b[0m\u001b[0;34m.\u001b[0m\u001b[0mclick\u001b[0m\u001b[0;34m(\u001b[0m\u001b[0;34m)\u001b[0m\u001b[0;34m\u001b[0m\u001b[0;34m\u001b[0m\u001b[0m\n\u001b[0m\u001b[1;32m      8\u001b[0m \u001b[0mpaget\u001b[0m \u001b[0;34m=\u001b[0m \u001b[0mdriver\u001b[0m\u001b[0;34m.\u001b[0m\u001b[0mtitle\u001b[0m\u001b[0;34m\u001b[0m\u001b[0;34m\u001b[0m\u001b[0m\n\u001b[1;32m      9\u001b[0m \u001b[0mprint\u001b[0m\u001b[0;34m(\u001b[0m\u001b[0;34m\"Currently on page \"\u001b[0m\u001b[0;34m,\u001b[0m\u001b[0mpaget\u001b[0m\u001b[0;34m)\u001b[0m\u001b[0;34m\u001b[0m\u001b[0;34m\u001b[0m\u001b[0m\n",
            "\u001b[0;32m/usr/local/lib/python3.6/dist-packages/selenium/webdriver/remote/webdriver.py\u001b[0m in \u001b[0;36mfind_element_by_css_selector\u001b[0;34m(self, css_selector)\u001b[0m\n\u001b[1;32m    596\u001b[0m             \u001b[0melement\u001b[0m \u001b[0;34m=\u001b[0m \u001b[0mdriver\u001b[0m\u001b[0;34m.\u001b[0m\u001b[0mfind_element_by_css_selector\u001b[0m\u001b[0;34m(\u001b[0m\u001b[0;34m'#foo'\u001b[0m\u001b[0;34m)\u001b[0m\u001b[0;34m\u001b[0m\u001b[0;34m\u001b[0m\u001b[0m\n\u001b[1;32m    597\u001b[0m         \"\"\"\n\u001b[0;32m--> 598\u001b[0;31m         \u001b[0;32mreturn\u001b[0m \u001b[0mself\u001b[0m\u001b[0;34m.\u001b[0m\u001b[0mfind_element\u001b[0m\u001b[0;34m(\u001b[0m\u001b[0mby\u001b[0m\u001b[0;34m=\u001b[0m\u001b[0mBy\u001b[0m\u001b[0;34m.\u001b[0m\u001b[0mCSS_SELECTOR\u001b[0m\u001b[0;34m,\u001b[0m \u001b[0mvalue\u001b[0m\u001b[0;34m=\u001b[0m\u001b[0mcss_selector\u001b[0m\u001b[0;34m)\u001b[0m\u001b[0;34m\u001b[0m\u001b[0;34m\u001b[0m\u001b[0m\n\u001b[0m\u001b[1;32m    599\u001b[0m \u001b[0;34m\u001b[0m\u001b[0m\n\u001b[1;32m    600\u001b[0m     \u001b[0;32mdef\u001b[0m \u001b[0mfind_elements_by_css_selector\u001b[0m\u001b[0;34m(\u001b[0m\u001b[0mself\u001b[0m\u001b[0;34m,\u001b[0m \u001b[0mcss_selector\u001b[0m\u001b[0;34m)\u001b[0m\u001b[0;34m:\u001b[0m\u001b[0;34m\u001b[0m\u001b[0;34m\u001b[0m\u001b[0m\n",
            "\u001b[0;32m/usr/local/lib/python3.6/dist-packages/selenium/webdriver/remote/webdriver.py\u001b[0m in \u001b[0;36mfind_element\u001b[0;34m(self, by, value)\u001b[0m\n\u001b[1;32m    976\u001b[0m         return self.execute(Command.FIND_ELEMENT, {\n\u001b[1;32m    977\u001b[0m             \u001b[0;34m'using'\u001b[0m\u001b[0;34m:\u001b[0m \u001b[0mby\u001b[0m\u001b[0;34m,\u001b[0m\u001b[0;34m\u001b[0m\u001b[0;34m\u001b[0m\u001b[0m\n\u001b[0;32m--> 978\u001b[0;31m             'value': value})['value']\n\u001b[0m\u001b[1;32m    979\u001b[0m \u001b[0;34m\u001b[0m\u001b[0m\n\u001b[1;32m    980\u001b[0m     \u001b[0;32mdef\u001b[0m \u001b[0mfind_elements\u001b[0m\u001b[0;34m(\u001b[0m\u001b[0mself\u001b[0m\u001b[0;34m,\u001b[0m \u001b[0mby\u001b[0m\u001b[0;34m=\u001b[0m\u001b[0mBy\u001b[0m\u001b[0;34m.\u001b[0m\u001b[0mID\u001b[0m\u001b[0;34m,\u001b[0m \u001b[0mvalue\u001b[0m\u001b[0;34m=\u001b[0m\u001b[0;32mNone\u001b[0m\u001b[0;34m)\u001b[0m\u001b[0;34m:\u001b[0m\u001b[0;34m\u001b[0m\u001b[0;34m\u001b[0m\u001b[0m\n",
            "\u001b[0;32m/usr/local/lib/python3.6/dist-packages/selenium/webdriver/remote/webdriver.py\u001b[0m in \u001b[0;36mexecute\u001b[0;34m(self, driver_command, params)\u001b[0m\n\u001b[1;32m    319\u001b[0m         \u001b[0mresponse\u001b[0m \u001b[0;34m=\u001b[0m \u001b[0mself\u001b[0m\u001b[0;34m.\u001b[0m\u001b[0mcommand_executor\u001b[0m\u001b[0;34m.\u001b[0m\u001b[0mexecute\u001b[0m\u001b[0;34m(\u001b[0m\u001b[0mdriver_command\u001b[0m\u001b[0;34m,\u001b[0m \u001b[0mparams\u001b[0m\u001b[0;34m)\u001b[0m\u001b[0;34m\u001b[0m\u001b[0;34m\u001b[0m\u001b[0m\n\u001b[1;32m    320\u001b[0m         \u001b[0;32mif\u001b[0m \u001b[0mresponse\u001b[0m\u001b[0;34m:\u001b[0m\u001b[0;34m\u001b[0m\u001b[0;34m\u001b[0m\u001b[0m\n\u001b[0;32m--> 321\u001b[0;31m             \u001b[0mself\u001b[0m\u001b[0;34m.\u001b[0m\u001b[0merror_handler\u001b[0m\u001b[0;34m.\u001b[0m\u001b[0mcheck_response\u001b[0m\u001b[0;34m(\u001b[0m\u001b[0mresponse\u001b[0m\u001b[0;34m)\u001b[0m\u001b[0;34m\u001b[0m\u001b[0;34m\u001b[0m\u001b[0m\n\u001b[0m\u001b[1;32m    322\u001b[0m             response['value'] = self._unwrap_value(\n\u001b[1;32m    323\u001b[0m                 response.get('value', None))\n",
            "\u001b[0;32m/usr/local/lib/python3.6/dist-packages/selenium/webdriver/remote/errorhandler.py\u001b[0m in \u001b[0;36mcheck_response\u001b[0;34m(self, response)\u001b[0m\n\u001b[1;32m    240\u001b[0m                 \u001b[0malert_text\u001b[0m \u001b[0;34m=\u001b[0m \u001b[0mvalue\u001b[0m\u001b[0;34m[\u001b[0m\u001b[0;34m'alert'\u001b[0m\u001b[0;34m]\u001b[0m\u001b[0;34m.\u001b[0m\u001b[0mget\u001b[0m\u001b[0;34m(\u001b[0m\u001b[0;34m'text'\u001b[0m\u001b[0;34m)\u001b[0m\u001b[0;34m\u001b[0m\u001b[0;34m\u001b[0m\u001b[0m\n\u001b[1;32m    241\u001b[0m             \u001b[0;32mraise\u001b[0m \u001b[0mexception_class\u001b[0m\u001b[0;34m(\u001b[0m\u001b[0mmessage\u001b[0m\u001b[0;34m,\u001b[0m \u001b[0mscreen\u001b[0m\u001b[0;34m,\u001b[0m \u001b[0mstacktrace\u001b[0m\u001b[0;34m,\u001b[0m \u001b[0malert_text\u001b[0m\u001b[0;34m)\u001b[0m\u001b[0;34m\u001b[0m\u001b[0;34m\u001b[0m\u001b[0m\n\u001b[0;32m--> 242\u001b[0;31m         \u001b[0;32mraise\u001b[0m \u001b[0mexception_class\u001b[0m\u001b[0;34m(\u001b[0m\u001b[0mmessage\u001b[0m\u001b[0;34m,\u001b[0m \u001b[0mscreen\u001b[0m\u001b[0;34m,\u001b[0m \u001b[0mstacktrace\u001b[0m\u001b[0;34m)\u001b[0m\u001b[0;34m\u001b[0m\u001b[0;34m\u001b[0m\u001b[0m\n\u001b[0m\u001b[1;32m    243\u001b[0m \u001b[0;34m\u001b[0m\u001b[0m\n\u001b[1;32m    244\u001b[0m     \u001b[0;32mdef\u001b[0m \u001b[0m_value_or_default\u001b[0m\u001b[0;34m(\u001b[0m\u001b[0mself\u001b[0m\u001b[0;34m,\u001b[0m \u001b[0mobj\u001b[0m\u001b[0;34m,\u001b[0m \u001b[0mkey\u001b[0m\u001b[0;34m,\u001b[0m \u001b[0mdefault\u001b[0m\u001b[0;34m)\u001b[0m\u001b[0;34m:\u001b[0m\u001b[0;34m\u001b[0m\u001b[0;34m\u001b[0m\u001b[0m\n",
            "\u001b[0;31mNoSuchElementException\u001b[0m: Message: no such element: Unable to locate element: {\"method\":\"css selector\",\"selector\":\"#root > div > div > div:nth-child(3) > div.homecontainer > div.countries > div:nth-child(5) > a\"}\n  (Session info: headless chrome=81.0.4044.138)\n"
          ]
        }
      ]
    },
    {
      "cell_type": "markdown",
      "metadata": {
        "id": "yPXjlqX-x72Y",
        "colab_type": "text"
      },
      "source": [
        "Function to calculate pixel level similarity"
      ]
    },
    {
      "cell_type": "code",
      "metadata": {
        "id": "LU2UH78xuC5z",
        "colab_type": "code",
        "colab": {}
      },
      "source": [
        "def process_region( image, x, y, width, height):\n",
        "        region_total = 0\n",
        "\n",
        "        # This can be used as the sensitivity factor, the larger it is the less sensitive the comparison\n",
        "        factor = 100\n",
        "\n",
        "        for coordinateY in range(y, y+height):\n",
        "            for coordinateX in range(x, x+width):\n",
        "                try:\n",
        "                    pixel = image.getpixel((coordinateX, coordinateY))\n",
        "                    region_total += sum(pixel)/4\n",
        "                except:\n",
        "                    return\n",
        "      \n",
        "        return region_total/factor"
      ],
      "execution_count": 0,
      "outputs": []
    },
    {
      "cell_type": "markdown",
      "metadata": {
        "id": "0os7Md86x2Oo",
        "colab_type": "text"
      },
      "source": [
        "Code to Verify Country Maps from Homepage"
      ]
    },
    {
      "cell_type": "code",
      "metadata": {
        "id": "X_e_YOUPrHvY",
        "colab_type": "code",
        "colab": {
          "base_uri": "https://localhost:8080/",
          "height": 191
        },
        "outputId": "1dd14ff4-3dd0-4442-d562-1eaab2bd5777"
      },
      "source": [
        "  \n",
        "   \n",
        "     i = 1\n",
        "     driver.get(\"http://covid19visual.herokuapp.com/home\")\n",
        "     while (i<=5): \n",
        "\n",
        "       # This makes the code go to the homepage, click on the country tab, go to the country page and click a snapshot of the map element  \n",
        "        if i!=1:\n",
        "         driver.back()\n",
        "        paget = driver.title\n",
        "        print(\"Currently on page \",paget)\n",
        "        country_link = \"#root > div > div > div:nth-child(3) > div.homecontainer > div.countries > div:nth-child(\" + str(i) + \") > a\"\n",
        "        driver.find_element_by_css_selector(country_link).click()\n",
        "        paget = driver.title\n",
        "        print(\"Currently on page \",paget)\n",
        "        time.sleep(5)\n",
        "        element = driver.find_element_by_css_selector(\"#chart\")\n",
        "        driver.execute_script(\"arguments[0].scrollIntoView();\", element)\n",
        "        name = paget + \"_test.png\"\n",
        "        driver.save_screenshot(name)\n",
        "        i = i + 1\n",
        "        \n",
        "        base = paget + \".png\"\n",
        "        screenshot_staging = Image.open(base)\n",
        "        screenshot_production = Image.open(name)\n",
        "        columns = 60\n",
        "        rows = 80\n",
        "        screen_width, screen_height = screenshot_staging.size\n",
        "\n",
        "        block_width = ((screen_width - 1) // columns) + 1 # this is just a division ceiling\n",
        "        block_height = ((screen_height - 1) // rows) + 1\n",
        "        count = 0  \n",
        "\n",
        "        #this compares each pixel of the snapshot clicked (staging screenshot) with the baseline image (production screenshot)\n",
        "        for y in range(0, screen_height, block_height+1):\n",
        "  \n",
        "            for x in range(0, screen_width, block_width+1):\n",
        "                region_staging = process_region(screenshot_staging, x, y, block_width, block_height)\n",
        "                region_production = process_region(screenshot_production, x, y, block_width, block_height)\n",
        "\n",
        "                if region_staging is not None and region_production is not None and region_production != region_staging:\n",
        "                    count = count + 1\n",
        "                    print(\"Mismatch  in\", paget)\n",
        "                    draw = ImageDraw.Draw(screenshot_staging)\n",
        "                    draw.rectangle((x, y, x+block_width, y+block_height), outline = \"red\")\n",
        "        #results of the screenshot comparison is stored. If there is a mismatch, it is shown in the results image as red boxes\n",
        "        result = paget + \"_result.png\"\n",
        "        screenshot_staging.save(result)\n",
        "              \n",
        "        "
      ],
      "execution_count": 51,
      "outputs": [
        {
          "output_type": "stream",
          "text": [
            "Currently on page  Home\n",
            "Currently on page  India\n",
            "Currently on page  Home\n",
            "Currently on page  Usa\n",
            "Currently on page  Home\n",
            "Currently on page  Germany\n",
            "Currently on page  Home\n",
            "Currently on page  Italy\n",
            "Currently on page  Home\n",
            "Currently on page  Singapore\n"
          ],
          "name": "stdout"
        }
      ]
    },
    {
      "cell_type": "markdown",
      "metadata": {
        "id": "VHjKndMDyVNw",
        "colab_type": "text"
      },
      "source": [
        "Code to get baseline images for Header Bar section"
      ]
    },
    {
      "cell_type": "code",
      "metadata": {
        "id": "H-Iok_Y1yYQF",
        "colab_type": "code",
        "colab": {
          "base_uri": "https://localhost:8080/",
          "height": 104
        },
        "outputId": "c6653a50-12b8-4e38-f26d-605f917e2c16"
      },
      "source": [
        "  \n",
        "i = 2\n",
        "driver.get(\"http://covid19visual.herokuapp.com/home\")\n",
        "#driver.back()\n",
        "paget = driver.title\n",
        "print(\"Currently on page \",paget)\n",
        "while (i<=5):   \n",
        "        #if i!=1:\n",
        "         #driver.back()\n",
        "        country_link = \"#root > div > div > nav > div > div.collapse.navbar-collapse > ul > li:nth-child(\" + str(i) + \") > a\"\n",
        "        driver.find_element_by_css_selector(country_link).click()\n",
        "        paget = driver.title\n",
        "        print(\"Currently on page \",paget)\n",
        "        time.sleep(5)\n",
        "        #element = driver.find_element_by_css_selector(\"#chart\")\n",
        "        #driver.execute_script(\"arguments[0].scrollIntoView();\", element)\n",
        "        check = driver.current_url\n",
        "        if check == 'http://covid19visual.herokuapp.com/events':\n",
        "           name = \"Events_test.png\"\n",
        "        else: \n",
        "           name = paget + \"_test.png\"\n",
        "        driver.save_screenshot(name)\n",
        "        i = i + 1\n",
        "        \n",
        "\n",
        "#indiat > div > section > div:nth-child(1) > div > div.chart-content > canvas\n",
        "#indiat > div > section > div:nth-child(1) > div > div.chart-content > canvas\n",
        "#indiat > div > section > div > div > div.chart-content > canvas"
      ],
      "execution_count": 70,
      "outputs": [
        {
          "output_type": "stream",
          "text": [
            "Currently on page  Home\n",
            "Currently on page  India Timeline\n",
            "Currently on page  India Demographics\n",
            "Currently on page  India Impact\n",
            "Currently on page  India Impact\n"
          ],
          "name": "stdout"
        }
      ]
    },
    {
      "cell_type": "markdown",
      "metadata": {
        "id": "7aiWXHTVWFPE",
        "colab_type": "text"
      },
      "source": [
        "Code to test the sections in the Header Bar"
      ]
    },
    {
      "cell_type": "code",
      "metadata": {
        "id": "VwT8q_x5P35u",
        "colab_type": "code",
        "colab": {
          "base_uri": "https://localhost:8080/",
          "height": 104
        },
        "outputId": "c996b80c-b88a-462c-d3fe-02f297ddb7f4"
      },
      "source": [
        "i = 2\n",
        "driver.get(\"http://covid19visual.herokuapp.com/home\")\n",
        "paget = driver.title\n",
        "print(\"Currently on page \",paget)\n",
        "# The code goes to the homepage, clicks on the section option at the top, goes to that section, and clicks a snapshot of that section\n",
        "while (i<=5):   \n",
        "        #if i!=1:\n",
        "         #driver.back()\n",
        "        country_link = \"#root > div > div > nav > div > div.collapse.navbar-collapse > ul > li:nth-child(\" + str(i) + \") > a\"\n",
        "        driver.find_element_by_css_selector(country_link).click()\n",
        "        paget = driver.title\n",
        "        print(\"Currently on page \",paget)\n",
        "        time.sleep(5)\n",
        "        #element = driver.find_element_by_css_selector(\"#chart\")\n",
        "        #driver.execute_script(\"arguments[0].scrollIntoView();\", element)\n",
        "        check = driver.current_url\n",
        "        if check == 'http://covid19visual.herokuapp.com/events':\n",
        "           name = \"Events_test.png\"\n",
        "           tester = \"Events_eval.png\"\n",
        "        else: \n",
        "           name = paget + \"_test.png\"\n",
        "           tester = paget + \"_eval.png\"\n",
        "        driver.save_screenshot(tester)\n",
        "        i = i + 1\n",
        "\n",
        "#comparing the pixels of our snapshot with the baseline image for comparison\n",
        "        screenshot_staging = Image.open(name)\n",
        "        screenshot_production = Image.open(tester)\n",
        "        columns = 60\n",
        "        rows = 80\n",
        "        screen_width, screen_height = screenshot_staging.size\n",
        "\n",
        "        block_width = ((screen_width - 1) // columns) + 1 # this is just a division ceiling\n",
        "        block_height = ((screen_height - 1) // rows) + 1\n",
        "        count = 0  \n",
        "        for y in range(0, screen_height, block_height+1):\n",
        "  \n",
        "            for x in range(0, screen_width, block_width+1):\n",
        "                region_staging = process_region(screenshot_staging, x, y, block_width, block_height)\n",
        "                region_production = process_region(screenshot_production, x, y, block_width, block_height)\n",
        "\n",
        "                if region_staging is not None and region_production is not None and region_production != region_staging:\n",
        "                    count = count + 1\n",
        "                    print(\"Mismatch  in\", name)\n",
        "                    draw = ImageDraw.Draw(screenshot_staging)\n",
        "                    draw.rectangle((x, y, x+block_width, y+block_height), outline = \"red\")\n",
        "        result = str(i) + \"_pixelmatch.png\"\n",
        "        screenshot_staging.save(result)\n",
        "\n",
        "\n",
        "\n"
      ],
      "execution_count": 76,
      "outputs": [
        {
          "output_type": "stream",
          "text": [
            "Currently on page  Home\n",
            "Currently on page  India Timeline\n",
            "Currently on page  India Demographics\n",
            "Currently on page  India Impact\n",
            "Currently on page  India Impact\n"
          ],
          "name": "stdout"
        }
      ]
    },
    {
      "cell_type": "code",
      "metadata": {
        "id": "PYqbayE-2Oa-",
        "colab_type": "code",
        "outputId": "0aae3492-c4b3-43f8-bd27-da9e82f678ce",
        "colab": {
          "base_uri": "https://localhost:8080/",
          "height": 166
        }
      },
      "source": [
        "driver.quit()"
      ],
      "execution_count": 0,
      "outputs": [
        {
          "output_type": "error",
          "ename": "NameError",
          "evalue": "ignored",
          "traceback": [
            "\u001b[0;31m---------------------------------------------------------------------------\u001b[0m",
            "\u001b[0;31mNameError\u001b[0m                                 Traceback (most recent call last)",
            "\u001b[0;32m<ipython-input-5-06c323e4aa92>\u001b[0m in \u001b[0;36m<module>\u001b[0;34m()\u001b[0m\n\u001b[0;32m----> 1\u001b[0;31m \u001b[0mselenium\u001b[0m\u001b[0;34m-\u001b[0m\u001b[0mjava\u001b[0m                \u001b[0;31m# connect to the JVM\u001b[0m\u001b[0;34m\u001b[0m\u001b[0;34m\u001b[0m\u001b[0m\n\u001b[0m",
            "\u001b[0;31mNameError\u001b[0m: name 'selenium' is not defined"
          ]
        }
      ]
    }
  ]
}